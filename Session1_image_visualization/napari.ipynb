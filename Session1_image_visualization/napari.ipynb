{
 "cells": [
  {
   "cell_type": "markdown",
   "id": "f47d2bc3-ecc8-41e3-a2e9-32412ffab55f",
   "metadata": {},
   "source": [
    "# napari image visualization"
   ]
  },
  {
   "cell_type": "code",
   "execution_count": null,
   "id": "cb774265-da4b-4a5b-9db7-51b097650bf5",
   "metadata": {},
   "outputs": [],
   "source": [
    "import napari\n",
    "import pandas as pd\n",
    "import tifffile"
   ]
  },
  {
   "cell_type": "markdown",
   "id": "b228d038-b8b3-4ae3-a4e0-a44da19380be",
   "metadata": {},
   "source": [
    "## File paths"
   ]
  },
  {
   "cell_type": "code",
   "execution_count": null,
   "id": "82aff679-0088-46d4-ae3d-8c0c8f26711e",
   "metadata": {},
   "outputs": [],
   "source": [
    "img_file = \"../data/steinbock/img/Patient4_005.tiff\"\n",
    "mask_file = \"../data/steinbock/masks/Patient4_005.tiff\"\n",
    "panel_file = \"../data/steinbock/panel.csv\""
   ]
  },
  {
   "cell_type": "markdown",
   "id": "9ff0630d-dd1f-47d5-959f-a52730177008",
   "metadata": {},
   "source": [
    "## Data loading"
   ]
  },
  {
   "cell_type": "code",
   "execution_count": null,
   "id": "d4be187a-d847-4cad-b8df-157d913f629c",
   "metadata": {},
   "outputs": [],
   "source": [
    "img = tifffile.imread(img_file)\n",
    "print(\"Image shape:\", img.shape)"
   ]
  },
  {
   "cell_type": "code",
   "execution_count": null,
   "id": "580bd636-fba4-4c88-bc34-8ded136879fe",
   "metadata": {},
   "outputs": [],
   "source": [
    "mask = tifffile.imread(mask_file)\n",
    "print(\"Mask shape:\", mask.shape)"
   ]
  },
  {
   "cell_type": "code",
   "execution_count": null,
   "id": "8a375605-1578-428d-a990-45a8bdbfab30",
   "metadata": {},
   "outputs": [],
   "source": [
    "panel = pd.read_csv(panel_file)\n",
    "print(len(panel.index), \"channels in panel\")"
   ]
  },
  {
   "cell_type": "markdown",
   "id": "cda6ec90-ba8a-4cdf-8ed8-f9d86f84da94",
   "metadata": {},
   "source": [
    "## Image visualization"
   ]
  },
  {
   "cell_type": "code",
   "execution_count": null,
   "id": "a1c13a02-ea6a-4258-b872-b8c179566cd5",
   "metadata": {},
   "outputs": [],
   "source": [
    "viewer = napari.Viewer()\n",
    "\n",
    "viewer.axes.visible = True\n",
    "viewer.dims.axis_labels = (\"y\", \"x\")\n",
    "\n",
    "viewer.scale_bar.visible = True\n",
    "viewer.scale_bar.unit = \"um\"\n",
    "\n",
    "img_layers = viewer.add_image(\n",
    "    data=img,\n",
    "    channel_axis=0,\n",
    "    colormap=\"gray\",\n",
    "    name=panel.loc[panel[\"keep\"] == 1, \"name\"],\n",
    "    blending=\"additive\",\n",
    "    visible=False,\n",
    ")\n",
    "\n",
    "mask_layer = viewer.add_labels(\n",
    "    data=mask,\n",
    "    name=\"Cells\",\n",
    "    blending=\"translucent\",\n",
    "    visible=False,\n",
    ")"
   ]
  }
 ],
 "metadata": {
  "kernelspec": {
   "display_name": "Python 3 (ipykernel)",
   "language": "python",
   "name": "python3"
  },
  "language_info": {
   "codemirror_mode": {
    "name": "ipython",
    "version": 3
   },
   "file_extension": ".py",
   "mimetype": "text/x-python",
   "name": "python",
   "nbconvert_exporter": "python",
   "pygments_lexer": "ipython3",
   "version": "3.10.8"
  }
 },
 "nbformat": 4,
 "nbformat_minor": 5
}
